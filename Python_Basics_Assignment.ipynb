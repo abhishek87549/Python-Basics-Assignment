{
  "nbformat": 4,
  "nbformat_minor": 0,
  "metadata": {
    "colab": {
      "provenance": []
    },
    "kernelspec": {
      "name": "python3",
      "display_name": "Python 3"
    },
    "language_info": {
      "name": "python"
    }
  },
  "cells": [
    {
      "cell_type": "code",
      "execution_count": 1,
      "metadata": {
        "id": "lKiDhgJ4AIVb"
      },
      "outputs": [],
      "source": [
        "# Python Basics Assignment"
      ]
    },
    {
      "cell_type": "markdown",
      "source": [
        "# Python Basics Assignment"
      ],
      "metadata": {
        "id": "_Rj7KJSrAckX"
      }
    },
    {
      "cell_type": "code",
      "source": [],
      "metadata": {
        "id": "Ew4o9Qh8AttR"
      },
      "execution_count": null,
      "outputs": []
    },
    {
      "cell_type": "markdown",
      "source": [
        "##1. What is Python, and why is it popular?  \n",
        "Python is a high-level, interpreted programming language known for its simplicity and readability. It is popular because of:  \n",
        "- Easy-to-learn syntax  \n",
        "- Extensive libraries and frameworks  \n",
        "- Strong community support  \n",
        "- Cross-platform compatibility  \n",
        "- Versatility in web development, data science, automation, AI, and more  \n",
        "\n",
        "\n",
        "##2. What is an interpreter in Python?  \n",
        "An interpreter in Python is a program that reads and executes Python code line by line. Unlike compiled languages, Python does not need a separate compilation step, making development and debugging faster.  \n",
        "\n",
        "\n",
        "##3. What are pre-defined keywords in Python?  \n",
        "Pre-defined keywords are reserved words in Python that have special meanings and cannot be used as identifiers (variable or function names). Examples include `if`, `else`, `while`, `for`, `True`, `False`, `def`, `return`, etc.  \n",
        "\n",
        "\n",
        "##4. Can keywords be used as variable names?  \n",
        "No, keywords cannot be used as variable names because they are reserved for specific functionalities in Python. Attempting to do so will result in a syntax error.  \n",
        "\n",
        "##5. What is mutability in Python?  \n",
        "Mutability refers to whether an object’s state (its data) can be changed after creation. Mutable objects can be modified, whereas immutable objects cannot be changed once created.  \n",
        "\n",
        "\n",
        "##6. Why are lists mutable, but tuples are immutable?  \n",
        "Lists are mutable because they allow modification (addition, deletion, and update of elements). Tuples, on the other hand, are immutable, meaning their elements cannot be changed once defined. This immutability provides better performance and security in certain use cases.  \n",
        "\n",
        "##7. What is the difference between `==` and `is` operators in Python?  \n",
        "- `==` checks for **value equality** (whether two objects have the same data).  \n",
        "- `is` checks for **identity equality** (whether two variables refer to the same object in memory).  \n",
        "\n",
        "Example:  \n",
        "```python\n",
        "a = [1, 2, 3]\n",
        "b = [1, 2, 3]\n",
        "print(a == b)  # True (values are the same)\n",
        "print(a is b)  # False (different objects in memory)\n",
        "```  \n",
        "\n",
        "##8. What are logical operators in Python?  \n",
        "Logical operators in Python are used to perform logical operations on boolean values:  \n",
        "- `and` → Returns `True` if both conditions are true  \n",
        "- `or` → Returns `True` if at least one condition is true  \n",
        "- `not` → Negates a condition (`True` becomes `False`, and vice versa)  \n",
        "\n",
        "\n",
        "##9. What is type casting in Python?  \n",
        "Type casting is the process of converting one data type into another. It can be done using built-in functions like `int()`, `float()`, `str()`, `list()`, etc.  \n",
        "\n",
        "\n",
        "##10. What is the difference between implicit and explicit type casting?  \n",
        "- **Implicit Type Casting** (Automatic Conversion): Python automatically converts smaller data types to larger ones to prevent data loss.  \n",
        "  Example:  \n",
        "  ```python\n",
        "  x = 5   # int\n",
        "  y = 2.5 # float\n",
        "  z = x + y  # Python converts int to float automatically\n",
        "  print(type(z))  # Output: <class 'float'>\n",
        "  ```\n",
        "- **Explicit Type Casting** (Manual Conversion): The user manually converts one data type to another.  \n",
        "  Example:  \n",
        "  ```python\n",
        "  a = \"10\"\n",
        "  b = int(a)  # Converts string to integer\n",
        "  print(type(b))  # Output: <class 'int'>\n",
        "  ```\n",
        "\n",
        "##11. What is the purpose of conditional statements in Python?  \n",
        "Conditional statements control the flow of execution based on conditions. They allow decision-making in a program using `if`, `elif`, and `else` statements.  \n",
        "\n",
        "##12. How does the `elif` statement work?  \n",
        "The `elif` statement is used for multiple conditional checks after an `if`. If the `if` condition is false, Python checks the `elif` condition. If that is also false, it moves to the next `elif` or `else`.  \n",
        "\n",
        "Example:  \n",
        "```python\n",
        "num = 10\n",
        "if num > 20:\n",
        "    print(\"Greater than 20\")\n",
        "elif num > 5:\n",
        "    print(\"Greater than 5 but not 20\")\n",
        "else:\n",
        "    print(\"5 or less\")\n",
        "```\n",
        "\n",
        "13. What is the difference between `for` and `while` loops?  \n",
        "- **`for` loop**: Used when the number of iterations is known. It iterates over a sequence like a list, tuple, or string.  \n",
        "- **`while` loop**: Used when the number of iterations is unknown, and it continues running as long as the condition remains true.  \n",
        "\n",
        "Example:  \n",
        "```python\n",
        "# for loop\n",
        "for i in range(5):\n",
        "    print(i)  # Prints 0 to 4\n",
        "\n",
        "# while loop\n",
        "x = 0\n",
        "while x < 5:\n",
        "    print(x)  # Prints 0 to 4\n",
        "    x += 1\n",
        "```\n",
        "\n",
        "##14. Describe a scenario where a while loop is more suitable than a for loop.  \n",
        "A `while` loop is more suitable when the number of iterations is **unknown** and depends on a condition.  \n",
        "\n",
        "Example:  \n",
        "- Reading user input until a valid response is given:  \n",
        "```python\n",
        "user_input = \"\"\n",
        "while user_input.lower() != \"yes\":\n",
        "    user_input = input(\"Enter 'yes' to continue: \")\n",
        "print(\"You entered 'yes'!\")\n",
        "```\n",
        "In this case, the loop runs until the user inputs \"yes\", making `while` more suitable than `for`."
      ],
      "metadata": {
        "id": "siwuarhSAx4n"
      }
    },
    {
      "cell_type": "markdown",
      "source": [],
      "metadata": {
        "id": "oRUXM1D0AugW"
      }
    },
    {
      "cell_type": "code",
      "source": [],
      "metadata": {
        "id": "V9R4SzpoHedh"
      },
      "execution_count": null,
      "outputs": []
    },
    {
      "cell_type": "markdown",
      "source": [],
      "metadata": {
        "id": "qYrVNThmH37D"
      }
    },
    {
      "cell_type": "markdown",
      "source": [
        "##1. Write a Python program to print \"Hello, World!\""
      ],
      "metadata": {
        "id": "ANoRYwv-INyq"
      }
    },
    {
      "cell_type": "code",
      "source": [
        "print(\"Hello, World!\")\n"
      ],
      "metadata": {
        "colab": {
          "base_uri": "https://localhost:8080/"
        },
        "id": "X_67jMG6IURr",
        "outputId": "96087883-b233-4af5-c8e6-4eecc481f381"
      },
      "execution_count": 2,
      "outputs": [
        {
          "output_type": "stream",
          "name": "stdout",
          "text": [
            "Hello, World!\n"
          ]
        }
      ]
    },
    {
      "cell_type": "markdown",
      "source": [],
      "metadata": {
        "id": "-RkD2f3rHQMC"
      }
    },
    {
      "cell_type": "markdown",
      "source": [
        "##2. Write a Python program that displays your name and age"
      ],
      "metadata": {
        "id": "DApL--JwIbud"
      }
    },
    {
      "cell_type": "code",
      "source": [
        "name = \"Abhishek Singh\"\n",
        "age = 33\n",
        "print(\"Name:\", name)\n",
        "print(\"Age:\", age)\n"
      ],
      "metadata": {
        "colab": {
          "base_uri": "https://localhost:8080/"
        },
        "id": "-azc5iSfIfKs",
        "outputId": "5981f344-3f89-438c-fee6-6cb2be3b24c1"
      },
      "execution_count": 3,
      "outputs": [
        {
          "output_type": "stream",
          "name": "stdout",
          "text": [
            "Name: Abhishek Singh\n",
            "Age: 33\n"
          ]
        }
      ]
    },
    {
      "cell_type": "markdown",
      "source": [
        "##3.Write code to print all the pre-defined keywords in Python using the keyword library"
      ],
      "metadata": {
        "id": "NoCjl4cYIl8z"
      }
    },
    {
      "cell_type": "code",
      "source": [
        "import keyword\n",
        "print(keyword.kwlist)\n"
      ],
      "metadata": {
        "colab": {
          "base_uri": "https://localhost:8080/"
        },
        "id": "PlkfJ5PjIp2V",
        "outputId": "2ff7f8c6-0051-4a5a-c3de-7ec3422b4d0c"
      },
      "execution_count": 4,
      "outputs": [
        {
          "output_type": "stream",
          "name": "stdout",
          "text": [
            "['False', 'None', 'True', 'and', 'as', 'assert', 'async', 'await', 'break', 'class', 'continue', 'def', 'del', 'elif', 'else', 'except', 'finally', 'for', 'from', 'global', 'if', 'import', 'in', 'is', 'lambda', 'nonlocal', 'not', 'or', 'pass', 'raise', 'return', 'try', 'while', 'with', 'yield']\n"
          ]
        }
      ]
    },
    {
      "cell_type": "markdown",
      "source": [
        "##4. Write a program that checks if a given word is a Python keyword"
      ],
      "metadata": {
        "id": "UHMW0Q_QI0WT"
      }
    },
    {
      "cell_type": "code",
      "source": [
        "import keyword\n",
        "\n",
        "word = input(\"Enter a word: \")\n",
        "if keyword.iskeyword(word):\n",
        "    print(f\"'{word}' is a Python keyword.\")\n",
        "else:\n",
        "    print(f\"'{word}' is not a Python keyword.\")\n"
      ],
      "metadata": {
        "colab": {
          "base_uri": "https://localhost:8080/"
        },
        "id": "EiudMmJrI2sg",
        "outputId": "322f3c17-6a7b-4ee7-96cd-a6b6125e8978"
      },
      "execution_count": 6,
      "outputs": [
        {
          "output_type": "stream",
          "name": "stdout",
          "text": [
            "Enter a word: class\n",
            "'class' is a Python keyword.\n"
          ]
        }
      ]
    },
    {
      "cell_type": "markdown",
      "source": [
        "##5. Create a list and tuple in Python, and demonstrate how attempting to change an element works differently for each"
      ],
      "metadata": {
        "id": "HdZeEshDJXGy"
      }
    },
    {
      "cell_type": "code",
      "source": [
        "# List (mutable)\n",
        "my_list = [1, 2, 3]\n",
        "my_list[0] = 10  # This is allowed\n",
        "print(\"Modified List:\", my_list)\n",
        "\n",
        "# Tuple (immutable)\n",
        "my_tuple = (1, 2, 3)\n",
        "try:\n",
        "    my_tuple[0] = 10  # This will raise an error\n",
        "except TypeError as e:\n",
        "    print(\"Error:\", e)\n"
      ],
      "metadata": {
        "colab": {
          "base_uri": "https://localhost:8080/"
        },
        "id": "26UkxIbhJgzi",
        "outputId": "04dd5289-0c21-4f7c-f1bd-89a4573be519"
      },
      "execution_count": 7,
      "outputs": [
        {
          "output_type": "stream",
          "name": "stdout",
          "text": [
            "Modified List: [10, 2, 3]\n",
            "Error: 'tuple' object does not support item assignment\n"
          ]
        }
      ]
    },
    {
      "cell_type": "markdown",
      "source": [
        "##6. Write a function to demonstrate the behavior of mutable and immutable arguments"
      ],
      "metadata": {
        "id": "beYZ7tKnJp3b"
      }
    },
    {
      "cell_type": "code",
      "source": [
        "def modify_values(immutable, mutable):\n",
        "    immutable += 1\n",
        "    mutable.append(4)\n",
        "\n",
        "num = 10  # Immutable (integer)\n",
        "lst = [1, 2, 3]  # Mutable (list)\n",
        "\n",
        "modify_values(num, lst)\n",
        "print(\"Immutable (num):\", num)  # Unchanged\n",
        "print(\"Mutable (list):\", lst)  # Modified\n"
      ],
      "metadata": {
        "colab": {
          "base_uri": "https://localhost:8080/"
        },
        "id": "P9LMHFmQJrLS",
        "outputId": "3f9dfff9-50c5-4f88-9989-081597cb59d4"
      },
      "execution_count": 8,
      "outputs": [
        {
          "output_type": "stream",
          "name": "stdout",
          "text": [
            "Immutable (num): 10\n",
            "Mutable (list): [1, 2, 3, 4]\n"
          ]
        }
      ]
    },
    {
      "cell_type": "markdown",
      "source": [
        "##7. Write a function to demonstrate the behavior of mutable and immutable arguments"
      ],
      "metadata": {
        "id": "w9LdYYbeJz5M"
      }
    },
    {
      "cell_type": "markdown",
      "source": [
        "Repeated question as above."
      ],
      "metadata": {
        "id": "JnF4tDSDJ9q8"
      }
    },
    {
      "cell_type": "markdown",
      "source": [
        "##8. Write a program to demonstrate the use of logical operators"
      ],
      "metadata": {
        "id": "Aw7SLwoLKAny"
      }
    },
    {
      "cell_type": "code",
      "source": [
        "a = True\n",
        "b = False\n",
        "\n",
        "print(\"a and b:\", a and b)  # False\n",
        "print(\"a or b:\", a or b)    # True\n",
        "print(\"not a:\", not a)      # False\n"
      ],
      "metadata": {
        "colab": {
          "base_uri": "https://localhost:8080/"
        },
        "id": "oB0lYXsPKEpx",
        "outputId": "d505eadb-0445-47dd-cb87-4e47c1805764"
      },
      "execution_count": 9,
      "outputs": [
        {
          "output_type": "stream",
          "name": "stdout",
          "text": [
            "a and b: False\n",
            "a or b: True\n",
            "not a: False\n"
          ]
        }
      ]
    },
    {
      "cell_type": "markdown",
      "source": [
        "##9. Write a Python program to convert user input from string to integer, float, and boolean types"
      ],
      "metadata": {
        "id": "dzWduhkHKIWX"
      }
    },
    {
      "cell_type": "code",
      "source": [
        "user_input = input(\"Enter a value: \")\n",
        "\n",
        "int_value = int(user_input)\n",
        "float_value = float(user_input)\n",
        "bool_value = bool(user_input)\n",
        "\n",
        "print(\"Integer:\", int_value)\n",
        "print(\"Float:\", float_value)\n",
        "print(\"Boolean:\", bool_value)\n"
      ],
      "metadata": {
        "colab": {
          "base_uri": "https://localhost:8080/"
        },
        "id": "BagQOo26KMEp",
        "outputId": "dabd4d84-1ce8-42fc-b178-af5f5c7ffe9f"
      },
      "execution_count": 10,
      "outputs": [
        {
          "output_type": "stream",
          "name": "stdout",
          "text": [
            "Enter a value: 4\n",
            "Integer: 4\n",
            "Float: 4.0\n",
            "Boolean: True\n"
          ]
        }
      ]
    },
    {
      "cell_type": "markdown",
      "source": [
        "##10. Write code to demonstrate type casting with list elements"
      ],
      "metadata": {
        "id": "oTx3vnhaKTo9"
      }
    },
    {
      "cell_type": "code",
      "source": [
        "str_list = [\"1\", \"2\", \"3\", \"4\"]\n",
        "int_list = list(map(int, str_list))  # Convert string list to integer list\n",
        "print(\"Converted List:\", int_list)\n"
      ],
      "metadata": {
        "colab": {
          "base_uri": "https://localhost:8080/"
        },
        "id": "uwp6NxLSKXUw",
        "outputId": "cfe08223-725e-472a-fe11-989574dffac8"
      },
      "execution_count": 11,
      "outputs": [
        {
          "output_type": "stream",
          "name": "stdout",
          "text": [
            "Converted List: [1, 2, 3, 4]\n"
          ]
        }
      ]
    },
    {
      "cell_type": "markdown",
      "source": [
        "##11. Write a program that checks if a number is positive, negative, or zero"
      ],
      "metadata": {
        "id": "J_tbSOanKhkt"
      }
    },
    {
      "cell_type": "code",
      "source": [
        "num = float(input(\"Enter a number: \"))\n",
        "\n",
        "if num > 0:\n",
        "    print(\"Positive\")\n",
        "elif num < 0:\n",
        "    print(\"Negative\")\n",
        "else:\n",
        "    print(\"Zero\")\n"
      ],
      "metadata": {
        "colab": {
          "base_uri": "https://localhost:8080/"
        },
        "id": "WsbluDA9KjOt",
        "outputId": "487a1186-2475-4d78-8123-dd57d51edbbc"
      },
      "execution_count": 12,
      "outputs": [
        {
          "output_type": "stream",
          "name": "stdout",
          "text": [
            "Enter a number: -3\n",
            "Negative\n"
          ]
        }
      ]
    },
    {
      "cell_type": "markdown",
      "source": [
        "##12. Write a for loop to print numbers from 1 to 10"
      ],
      "metadata": {
        "id": "kGeTNVU3Ks43"
      }
    },
    {
      "cell_type": "code",
      "source": [
        "for i in range(1, 11):\n",
        "    print(i)\n"
      ],
      "metadata": {
        "colab": {
          "base_uri": "https://localhost:8080/"
        },
        "id": "XgwQg3siKwsF",
        "outputId": "e7191b48-bb1e-4f1a-c60a-8bfc8309ae17"
      },
      "execution_count": 13,
      "outputs": [
        {
          "output_type": "stream",
          "name": "stdout",
          "text": [
            "1\n",
            "2\n",
            "3\n",
            "4\n",
            "5\n",
            "6\n",
            "7\n",
            "8\n",
            "9\n",
            "10\n"
          ]
        }
      ]
    },
    {
      "cell_type": "markdown",
      "source": [
        "##13. Write a Python program to find the sum of all even numbers between 1 and 50"
      ],
      "metadata": {
        "id": "OINt8NRSK0cN"
      }
    },
    {
      "cell_type": "code",
      "source": [
        "sum_even = sum(i for i in range(1, 51) if i % 2 == 0)\n",
        "print(\"Sum of even numbers:\", sum_even)\n"
      ],
      "metadata": {
        "colab": {
          "base_uri": "https://localhost:8080/"
        },
        "id": "BCEYLB4sK3js",
        "outputId": "57e39ea5-3f75-4f34-f1a3-b3d8d3a1ff8c"
      },
      "execution_count": 14,
      "outputs": [
        {
          "output_type": "stream",
          "name": "stdout",
          "text": [
            "Sum of even numbers: 650\n"
          ]
        }
      ]
    },
    {
      "cell_type": "markdown",
      "source": [
        "##14. Write a program to reverse a string using a while loop"
      ],
      "metadata": {
        "id": "DfGreOUGK8oJ"
      }
    },
    {
      "cell_type": "code",
      "source": [
        "string = input(\"Enter a string: \")\n",
        "reversed_string = \"\"\n",
        "index = len(string) - 1\n",
        "\n",
        "while index >= 0:\n",
        "    reversed_string += string[index]\n",
        "    index -= 1\n",
        "\n",
        "print(\"Reversed string:\", reversed_string)\n"
      ],
      "metadata": {
        "colab": {
          "base_uri": "https://localhost:8080/"
        },
        "id": "XJC8oQ2iK_5L",
        "outputId": "c32f601d-dda5-4272-fda1-bd39f7771682"
      },
      "execution_count": 15,
      "outputs": [
        {
          "output_type": "stream",
          "name": "stdout",
          "text": [
            "Enter a string: 5\n",
            "Reversed string: 5\n"
          ]
        }
      ]
    },
    {
      "cell_type": "markdown",
      "source": [
        "##15. Write a Python program to calculate the factorial of a number provided by the user using a while loop"
      ],
      "metadata": {
        "id": "02wpOIlfLKEY"
      }
    },
    {
      "cell_type": "code",
      "source": [
        "num = int(input(\"Enter a number: \"))\n",
        "factorial = 1\n",
        "i = num\n",
        "\n",
        "while i > 1:\n",
        "    factorial *= i\n",
        "    i -= 1\n",
        "\n",
        "print(f\"Factorial of {num} is {factorial}\")\n"
      ],
      "metadata": {
        "colab": {
          "base_uri": "https://localhost:8080/"
        },
        "id": "6zFuRcpgLNJU",
        "outputId": "5fdb5135-04be-4313-ff0b-ba305c4eed74"
      },
      "execution_count": 16,
      "outputs": [
        {
          "output_type": "stream",
          "name": "stdout",
          "text": [
            "Enter a number: 5\n",
            "Factorial of 5 is 120\n"
          ]
        }
      ]
    }
  ]
}